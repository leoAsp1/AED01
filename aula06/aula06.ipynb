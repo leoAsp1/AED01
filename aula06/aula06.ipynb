{
 "cells": [
  {
   "cell_type": "code",
   "execution_count": 1,
   "id": "1e066f54-9ad2-458c-aea2-39cb4b0a3eca",
   "metadata": {},
   "outputs": [],
   "source": [
    "nome = \"Leonardo\"\n",
    "idade = 19"
   ]
  },
  {
   "cell_type": "code",
   "execution_count": 3,
   "id": "d7ea6d0f-ca06-464f-8086-2c32f0c8122b",
   "metadata": {},
   "outputs": [
    {
     "name": "stdout",
     "output_type": "stream",
     "text": [
      "Leonardo  tem  19  anos!\n"
     ]
    }
   ],
   "source": [
    "print(nome, \" tem \", idade, \" anos!\")"
   ]
  },
  {
   "cell_type": "code",
   "execution_count": 5,
   "id": "b9274379-ac88-4f89-919a-b3b507b1050e",
   "metadata": {},
   "outputs": [
    {
     "name": "stdout",
     "output_type": "stream",
     "text": [
      "Leonardo tem  19 anos!\n"
     ]
    }
   ],
   "source": [
    "print(nome, \"tem \", idade, \"anos!\")"
   ]
  },
  {
   "cell_type": "code",
   "execution_count": 7,
   "id": "17907f7b-a0fe-4f9b-9898-65d527e3f07c",
   "metadata": {},
   "outputs": [
    {
     "name": "stdout",
     "output_type": "stream",
     "text": [
      "Leonardo tem 19 anos!\n"
     ]
    }
   ],
   "source": [
    "print(nome, \"tem\", idade, \"anos!\")"
   ]
  },
  {
   "cell_type": "code",
   "execution_count": 10,
   "id": "3d393d9a-7d7a-43f2-b014-93b8500d628b",
   "metadata": {},
   "outputs": [
    {
     "name": "stdin",
     "output_type": "stream",
     "text": [
      "Digite seu nome:  Kleber\n"
     ]
    }
   ],
   "source": [
    "nome = input(\"Digite seu nome: \")"
   ]
  },
  {
   "cell_type": "code",
   "execution_count": 12,
   "id": "4def51eb-6033-4c57-af66-4f7fd0a456f6",
   "metadata": {},
   "outputs": [
    {
     "name": "stdin",
     "output_type": "stream",
     "text": [
      "Digite sua idade:  24\n"
     ]
    }
   ],
   "source": [
    "idade = input(\"Digite sua idade: \")"
   ]
  },
  {
   "cell_type": "code",
   "execution_count": 14,
   "id": "43c6708a-cf66-473a-894d-35e6baa39451",
   "metadata": {},
   "outputs": [],
   "source": [
    "idade = int(idade)"
   ]
  },
  {
   "cell_type": "code",
   "execution_count": 16,
   "id": "83abd531-70a8-4071-8319-0a76134c3700",
   "metadata": {},
   "outputs": [
    {
     "data": {
      "text/plain": [
       "24"
      ]
     },
     "execution_count": 16,
     "metadata": {},
     "output_type": "execute_result"
    }
   ],
   "source": [
    "idade"
   ]
  },
  {
   "cell_type": "code",
   "execution_count": 20,
   "id": "9b11b9b0-faef-4311-bf5f-65b233d09096",
   "metadata": {},
   "outputs": [
    {
     "name": "stdin",
     "output_type": "stream",
     "text": [
      "Digite sua idade:  34\n"
     ]
    }
   ],
   "source": [
    "idade = int(input(\"Digite sua idade: \"))"
   ]
  },
  {
   "cell_type": "code",
   "execution_count": 22,
   "id": "b6b1806c-c16a-43f4-8563-e54cbccf5f79",
   "metadata": {},
   "outputs": [
    {
     "data": {
      "text/plain": [
       "34"
      ]
     },
     "execution_count": 22,
     "metadata": {},
     "output_type": "execute_result"
    }
   ],
   "source": [
    "idade"
   ]
  },
  {
   "cell_type": "code",
   "execution_count": 24,
   "id": "91f8fc75-0346-4506-b1f6-3e71132c98a8",
   "metadata": {},
   "outputs": [
    {
     "data": {
      "text/plain": [
       "int"
      ]
     },
     "execution_count": 24,
     "metadata": {},
     "output_type": "execute_result"
    }
   ],
   "source": [
    "type(idade)"
   ]
  },
  {
   "cell_type": "code",
   "execution_count": 26,
   "id": "472ca49e-8a6a-4034-88e6-2ecd9a9d7396",
   "metadata": {},
   "outputs": [],
   "source": [
    "idade = float(idade)"
   ]
  },
  {
   "cell_type": "code",
   "execution_count": 28,
   "id": "97339dd9-ab67-4d50-8dcc-08e9d0b1e079",
   "metadata": {},
   "outputs": [
    {
     "data": {
      "text/plain": [
       "float"
      ]
     },
     "execution_count": 28,
     "metadata": {},
     "output_type": "execute_result"
    }
   ],
   "source": [
    "type(idade)"
   ]
  },
  {
   "cell_type": "code",
   "execution_count": 1,
   "id": "1b077331-c2cb-4951-aca6-48f099e5d632",
   "metadata": {},
   "outputs": [
    {
     "name": "stdin",
     "output_type": "stream",
     "text": [
      "Digite o lado maior:  5\n",
      "Digite o lado menor:  2\n"
     ]
    },
    {
     "name": "stdout",
     "output_type": "stream",
     "text": [
      "A área do quadrilátero é:  10.0\n"
     ]
    }
   ],
   "source": [
    "lado1 = float(input(\"Digite o lado maior: \"))\n",
    "lado2 = float(input(\"Digite o lado menor: \"))\n",
    "area = lado1 * lado2\n",
    "print(\"A área do quadrilátero é: \", area)"
   ]
  },
  {
   "cell_type": "code",
   "execution_count": null,
   "id": "f5202e1f-43fb-4e3e-b2b2-1e82cfe678ea",
   "metadata": {},
   "outputs": [],
   "source": [
    "idade = int(input(\"Qual sua idade games? \"))\n",
    "if("
   ]
  }
 ],
 "metadata": {
  "kernelspec": {
   "display_name": "Python [conda env:base] *",
   "language": "python",
   "name": "conda-base-py"
  },
  "language_info": {
   "codemirror_mode": {
    "name": "ipython",
    "version": 3
   },
   "file_extension": ".py",
   "mimetype": "text/x-python",
   "name": "python",
   "nbconvert_exporter": "python",
   "pygments_lexer": "ipython3",
   "version": "3.12.7"
  }
 },
 "nbformat": 4,
 "nbformat_minor": 5
}
