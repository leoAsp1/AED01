{
 "cells": [
  {
   "cell_type": "code",
   "execution_count": 27,
   "id": "4b35658f-ca39-4629-8729-787f2b3572c4",
   "metadata": {},
   "outputs": [
    {
     "name": "stdin",
     "output_type": "stream",
     "text": [
      "Qual sua idade?:  19\n"
     ]
    },
    {
     "name": "stdout",
     "output_type": "stream",
     "text": [
      "Parabéns! Você é maior de idade!\n",
      "Fim.\n"
     ]
    }
   ],
   "source": [
    "idade = int(input(\"Qual sua idade?: \"))\n",
    "if(idade>=18):\n",
    "    print(\"Parabéns! Você é maior de idade!\")\n",
    "else:\n",
    "    print(\"Tenha paciência, você logo será maior de idade.\")\n",
    "    print(\"Viva e aproveite a sua juventude.\")\n",
    "print(\"Fim.\")"
   ]
  },
  {
   "cell_type": "code",
   "execution_count": 47,
   "id": "bdcf588a-cbf1-4ed3-96d3-2faeade3f9d6",
   "metadata": {},
   "outputs": [
    {
     "name": "stdin",
     "output_type": "stream",
     "text": [
      "Digite a nota 1:  -7\n",
      "Digite a nota 2:  -2\n"
     ]
    },
    {
     "name": "stdout",
     "output_type": "stream",
     "text": [
      "A média é:  -4.5\n",
      "Não existe.\n"
     ]
    }
   ],
   "source": [
    "nota1 = float(input(\"Digite a nota 1: \"))\n",
    "nota2 = float(input(\"Digite a nota 2: \"))\n",
    "\n",
    "#Calculando a média final\n",
    "média = (nota1 + nota2) / 2\n",
    "\n",
    "#Mostrando a média\n",
    "print(\"A média é: \", média)\n",
    "if média >= 0:\n",
    "    if média >= 6:\n",
    "        print(\"Aprovado games!\")\n",
    "    else:\n",
    "        print(\"Reprovado games.\")\n",
    "else:\n",
    "    print(\"Não existe.\")"
   ]
  },
  {
   "cell_type": "code",
   "execution_count": 23,
   "id": "70b1cf5b-3ca2-4725-8bfc-7b20ed3ccd60",
   "metadata": {},
   "outputs": [
    {
     "name": "stdin",
     "output_type": "stream",
     "text": [
      "Digite o nome da fruta:  macaxeira\n"
     ]
    },
    {
     "name": "stdout",
     "output_type": "stream",
     "text": [
      "Desculpe, não temos macaxeira\n"
     ]
    }
   ],
   "source": [
    "fruta = input(\"Digite o nome da fruta: \")\n",
    "if fruta == \"banana\":\n",
    "    print(\"O quilo da banana é 5.23.\")\n",
    "elif fruta == \"maçã\":\n",
    "    print(\"O quilo da maçã é 12.10.\")\n",
    "elif fruta == \"cereja\":\n",
    "    print(\"O quilo da cereja é 58.00.\")\n",
    "else:\n",
    "    print(\"Desculpe, não temos\", fruta)"
   ]
  },
  {
   "cell_type": "code",
   "execution_count": 43,
   "id": "c6c5319d-b808-4ee3-86a2-b6891650e916",
   "metadata": {},
   "outputs": [
    {
     "name": "stdin",
     "output_type": "stream",
     "text": [
      "Entre com um número:  3\n"
     ]
    },
    {
     "name": "stdout",
     "output_type": "stream",
     "text": [
      "3 é impar positivo.\n"
     ]
    }
   ],
   "source": [
    "n = int(input(\"Entre com um número: \"))\n",
    "if(n >= 0):\n",
    "    if(n % 2) == 0:\n",
    "        print(n, \"é par positivo.\")\n",
    "    else:\n",
    "        print(n, \"é impar positivo.\")\n",
    "else:\n",
    "    if(abs(n) % 2) == 0:\n",
    "        print(n, \"é par negativo.\")\n",
    "    else:\n",
    "        print(n, \"é impar negativo.\")"
   ]
  },
  {
   "cell_type": "code",
   "execution_count": null,
   "id": "14fea5d5-82b2-4a30-8808-49f9e3c50dc7",
   "metadata": {},
   "outputs": [],
   "source": []
  }
 ],
 "metadata": {
  "kernelspec": {
   "display_name": "Python [conda env:base] *",
   "language": "python",
   "name": "conda-base-py"
  },
  "language_info": {
   "codemirror_mode": {
    "name": "ipython",
    "version": 3
   },
   "file_extension": ".py",
   "mimetype": "text/x-python",
   "name": "python",
   "nbconvert_exporter": "python",
   "pygments_lexer": "ipython3",
   "version": "3.12.7"
  }
 },
 "nbformat": 4,
 "nbformat_minor": 5
}
